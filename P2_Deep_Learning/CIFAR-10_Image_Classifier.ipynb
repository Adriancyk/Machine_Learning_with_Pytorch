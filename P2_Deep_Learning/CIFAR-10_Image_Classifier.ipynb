{
 "cells": [
  {
   "cell_type": "markdown",
   "metadata": {},
   "source": [
    "# Introduction\n",
    "\n",
    "In this project, you will build a neural network of your own design to evaluate the CIFAR-10 dataset.\n",
    "Our target accuracy is 70%, but any accuracy over 50% is a great start.\n",
    "Some of the benchmark results on CIFAR-10 include:\n",
    "\n",
    "78.9% Accuracy | [Deep Belief Networks; Krizhevsky, 2010](https://www.cs.toronto.edu/~kriz/conv-cifar10-aug2010.pdf)\n",
    "\n",
    "90.6% Accuracy | [Maxout Networks; Goodfellow et al., 2013](https://arxiv.org/pdf/1302.4389.pdf)\n",
    "\n",
    "96.0% Accuracy | [Wide Residual Networks; Zagoruyko et al., 2016](https://arxiv.org/pdf/1605.07146.pdf)\n",
    "\n",
    "99.0% Accuracy | [GPipe; Huang et al., 2018](https://arxiv.org/pdf/1811.06965.pdf)\n",
    "\n",
    "98.5% Accuracy | [Rethinking Recurrent Neural Networks and other Improvements for ImageClassification; Nguyen et al., 2020](https://arxiv.org/pdf/2007.15161.pdf)\n",
    "\n",
    "Research with this dataset is ongoing. Notably, many of these networks are quite large and quite expensive to train. \n",
    "\n",
    "## Imports"
   ]
  },
  {
   "cell_type": "code",
   "execution_count": 13,
   "metadata": {},
   "outputs": [],
   "source": [
    "## This cell contains the essential imports you will need – DO NOT CHANGE THE CONTENTS! ##\n",
    "import torch\n",
    "import torch.nn as nn\n",
    "import torch.nn.functional as F\n",
    "import torch.optim as optim\n",
    "import torchvision\n",
    "import torchvision.transforms as transforms\n",
    "import matplotlib.pyplot as plt\n",
    "import numpy as np"
   ]
  },
  {
   "cell_type": "markdown",
   "metadata": {},
   "source": [
    "## Load the Dataset\n",
    "\n",
    "Specify your transforms as a list first.\n",
    "The transforms module is already loaded as `transforms`.\n",
    "\n",
    "CIFAR-10 is fortunately included in the torchvision module.\n",
    "Then, you can create your dataset using the `CIFAR10` object from `torchvision.datasets` ([the documentation is available here](https://pytorch.org/docs/stable/torchvision/datasets.html#cifar)).\n",
    "Make sure to specify `download=True`! \n",
    "\n",
    "Once your dataset is created, you'll also need to define a `DataLoader` from the `torch.utils.data` module for both the train and the test set."
   ]
  },
  {
   "cell_type": "code",
   "execution_count": 14,
   "metadata": {},
   "outputs": [
    {
     "name": "stdout",
     "output_type": "stream",
     "text": [
      "Files already downloaded and verified\n",
      "Files already downloaded and verified\n",
      "Files already downloaded and verified\n"
     ]
    }
   ],
   "source": [
    "# Define transforms\n",
    "## YOUR CODE HERE ##\n",
    "resize = 32\n",
    "train_transforms = transforms.Compose([transforms.RandomRotation(10),\n",
    "                                       transforms.RandomResizedCrop(resize, scale=(0.75, 1.0), ratio=(0.85, 1.0)),\n",
    "                                       transforms.RandomHorizontalFlip(0.2),\n",
    "                                       transforms.ToTensor(),\n",
    "                                       transforms.Normalize([0.5, 0.5, 0.5], \n",
    "                                                            [0.5, 0.5, 0.5])])\n",
    "\n",
    "test_transforms = transforms.Compose([transforms.ToTensor(),\n",
    "                                      transforms.Normalize((0.5, 0.5, 0.5), \n",
    "                                                           (0.5, 0.5, 0.5))])\n",
    "\n",
    "# Create training set and define training dataloader\n",
    "## YOUR CODE HERE ##\n",
    "train_data1 = torchvision.datasets.CIFAR10('./train', train=True, download=True, transform=test_transforms)\n",
    "train_data2 = torchvision.datasets.CIFAR10('./train', train=True, download=True, transform=train_transforms)\n",
    "train_data = torch.utils.data.ConcatDataset([train_data1, train_data2])\n",
    "\n",
    "train_loader = torch.utils.data.DataLoader(train_data, batch_size=5, shuffle=True)\n",
    "# Create test set and define test dataloader\n",
    "test_data = torchvision.datasets.CIFAR10('./test', train=False, download=True, transform=test_transforms)\n",
    "\n",
    "test_loader = torch.utils.data.DataLoader(test_data, batch_size=5, shuffle=False)\n",
    "## YOUR CODE HERE ##\n",
    "\n",
    "# The 10 classes in the dataset\n",
    "classes = ('plane', 'car', 'bird', 'cat', 'deer', 'dog', 'frog', 'horse', 'ship', 'truck')"
   ]
  },
  {
   "cell_type": "markdown",
   "metadata": {},
   "source": [
    "## Explore the Dataset\n",
    "Using matplotlib, numpy, and torch, explore the dimensions of your data.\n",
    "\n",
    "You can view images using the `show5` function defined below – it takes a data loader as an argument.\n",
    "Remember that normalized images will look really weird to you! You may want to try changing your transforms to view images.\n",
    "Typically using no transforms other than `toTensor()` works well for viewing – but not as well for training your network.\n",
    "If `show5` doesn't work, go back and check your code for creating your data loaders and your training/test sets."
   ]
  },
  {
   "cell_type": "code",
   "execution_count": 15,
   "metadata": {},
   "outputs": [],
   "source": [
    "def show5(img_loader):\n",
    "    dataiter = iter(img_loader)\n",
    "    \n",
    "    batch = next(dataiter)\n",
    "    labels = batch[1][0:5]\n",
    "    images = batch[0][0:5]\n",
    "    for i in range(5):\n",
    "        print(classes[labels[i]])\n",
    "    \n",
    "        image = images[i].numpy()\n",
    "        plt.imshow(image.T)\n",
    "        plt.show()"
   ]
  },
  {
   "cell_type": "code",
   "execution_count": 16,
   "metadata": {},
   "outputs": [
    {
     "name": "stderr",
     "output_type": "stream",
     "text": [
      "Clipping input data to the valid range for imshow with RGB data ([0..1] for floats or [0..255] for integers).\n"
     ]
    },
    {
     "name": "stdout",
     "output_type": "stream",
     "text": [
      "cat\n"
     ]
    },
    {
     "data": {
      "image/png": "[encoded data removed]",
      "text/plain": [
       "<Figure size 640x480 with 1 Axes>"
      ]
     },
     "metadata": {},
     "output_type": "display_data"
    },
    {
     "name": "stderr",
     "output_type": "stream",
     "text": [
      "Clipping input data to the valid range for imshow with RGB data ([0..1] for floats or [0..255] for integers).\n"
     ]
    },
    {
     "name": "stdout",
     "output_type": "stream",
     "text": [
      "car\n"
     ]
    },
    {
     "data": {
      "image/png": "[encoded data removed]",
      "text/plain": [
       "<Figure size 640x480 with 1 Axes>"
      ]
     },
     "metadata": {},
     "output_type": "display_data"
    },
    {
     "name": "stderr",
     "output_type": "stream",
     "text": [
      "Clipping input data to the valid range for imshow with RGB data ([0..1] for floats or [0..255] for integers).\n"
     ]
    },
    {
     "name": "stdout",
     "output_type": "stream",
     "text": [
      "dog\n"
     ]
    },
    {
     "data": {
      "image/png": "[encoded data removed]",
      "text/plain": [
       "<Figure size 640x480 with 1 Axes>"
      ]
     },
     "metadata": {},
     "output_type": "display_data"
    },
    {
     "name": "stderr",
     "output_type": "stream",
     "text": [
      "Clipping input data to the valid range for imshow with RGB data ([0..1] for floats or [0..255] for integers).\n"
     ]
    },
    {
     "name": "stdout",
     "output_type": "stream",
     "text": [
      "car\n"
     ]
    },
    {
     "data": {
      "image/png": "[encoded data removed]",
      "text/plain": [
       "<Figure size 640x480 with 1 Axes>"
      ]
     },
     "metadata": {},
     "output_type": "display_data"
    },
    {
     "name": "stderr",
     "output_type": "stream",
     "text": [
      "Clipping input data to the valid range for imshow with RGB data ([0..1] for floats or [0..255] for integers).\n"
     ]
    },
    {
     "name": "stdout",
     "output_type": "stream",
     "text": [
      "horse\n"
     ]
    },
    {
     "data": {
      "image/png": "[encoded data removed]",
      "text/plain": [
       "<Figure size 640x480 with 1 Axes>"
      ]
     },
     "metadata": {},
     "output_type": "display_data"
    }
   ],
   "source": [
    "# Explore data\n",
    "## YOUR CODE HERE ##\n",
    "show5(train_loader)"
   ]
  },
  {
   "cell_type": "markdown",
   "metadata": {},
   "source": [
    "## Build your Neural Network\n",
    "Using the layers in `torch.nn` (which has been imported as `nn`) and the `torch.nn.functional` module (imported as `F`), construct a neural network based on the parameters of the dataset. \n",
    "Feel free to construct a model of any architecture – feedforward, convolutional, or even something more advanced!"
   ]
  },
  {
   "attachments": {},
   "cell_type": "markdown",
   "metadata": {},
   "source": [
    "CNN layer formula: (W - F + 2P)/S + 1, where W is input size, F is filter size, P is padding size and S is stride size."
   ]
  },
  {
   "cell_type": "code",
   "execution_count": 19,
   "metadata": {},
   "outputs": [],
   "source": [
    "## YOUR CODE HERE ##\n",
    "\n",
    "class Classifier_cifar10(nn.Module):\n",
    "    def __init__(self):\n",
    "        super().__init__()\n",
    "        self.conv1 = nn.Conv2d(3, 64, 3) \n",
    "        self.pool1 = nn.MaxPool2d(2, 2)\n",
    "        self.conv2 = nn.Conv2d(64, 32, 3, stride=2, padding=1)\n",
    "        self.fc1 = nn.Linear(512, 256)\n",
    "        self.fc2 = nn.Linear(256, 128)\n",
    "        self.fc3 = nn.Linear(128, 10)\n",
    "        self.dropout = nn.Dropout(p=0.2)\n",
    "        \n",
    "    def forward(self, x):         \n",
    "        \n",
    "        x = self.pool1(F.relu(self.conv1(x))) # 3x32x32 -> 64x30x30 -> 64x15x15\n",
    "        x = self.pool1(F.relu(self.conv2(x))) # 64x15x15 -> 32x8x8 -> 32x4x4\n",
    "        x = x.view(x.shape[0], -1) # 32x4x4 -> 1x512 Note:x.shape[0] is batch_size\n",
    "        x = F.relu(self.fc1(x)) # 1x512 -> 1x256\n",
    "        x = self.dropout(F.relu(self.fc2(x))) # 1x256 -> 1x64\n",
    "        x = F.log_softmax(self.fc3(x), dim=1) # 1x64 -> 1x10\n",
    "        \n",
    "        return x"
   ]
  },
  {
   "cell_type": "markdown",
   "metadata": {},
   "source": [
    "Specify a loss function and an optimizer, and instantiate the model.\n",
    "\n",
    "If you use a less common loss function, please note why you chose that loss function in a comment."
   ]
  },
  {
   "cell_type": "code",
   "execution_count": 20,
   "metadata": {},
   "outputs": [],
   "source": [
    "## YOUR CODE HERE ##\n",
    "\n",
    "model = Classifier_cifar10()\n",
    "criterion = nn.NLLLoss()\n",
    "optimizer = optim.Adam(model.parameters(), lr=0.003)"
   ]
  },
  {
   "cell_type": "markdown",
   "metadata": {},
   "source": [
    "## Running your Neural Network\n",
    "Use whatever method you like to train your neural network, and ensure you record the average loss at each epoch. \n",
    "Don't forget to use `torch.device()` and the `.to()` method for both your model and your data if you are using GPU!\n",
    "\n",
    "If you want to print your loss during each epoch, you can use the `enumerate` function and print the loss after a set number of batches. 250 batches works well for most people!"
   ]
  },
  {
   "cell_type": "code",
   "execution_count": 23,
   "metadata": {},
   "outputs": [
    {
     "name": "stdout",
     "output_type": "stream",
     "text": [
      "cuda:0\n",
      "Epoch: 1/30.. Time: 81.427.. Training Loss: 1.570.. Test Loss: 1.484.. Test Accuracy: 0.461\n",
      "Epoch: 2/30.. Time: 87.469.. Training Loss: 1.534.. Test Loss: 1.449.. Test Accuracy: 0.485\n",
      "Epoch: 3/30.. Time: 173.426.. Training Loss: 1.507.. Test Loss: 1.422.. Test Accuracy: 0.492\n",
      "Epoch: 4/30.. Time: 176.218.. Training Loss: 1.484.. Test Loss: 1.370.. Test Accuracy: 0.512\n",
      "Epoch: 5/30.. Time: 110.951.. Training Loss: 1.482.. Test Loss: 1.379.. Test Accuracy: 0.505\n",
      "Epoch: 6/30.. Time: 86.615.. Training Loss: 1.473.. Test Loss: 1.501.. Test Accuracy: 0.481\n",
      "Epoch: 7/30.. Time: 78.563.. Training Loss: 1.464.. Test Loss: 1.372.. Test Accuracy: 0.520\n",
      "Epoch: 8/30.. Time: 80.850.. Training Loss: 1.465.. Test Loss: 1.450.. Test Accuracy: 0.497\n",
      "Epoch: 9/30.. Time: 75.658.. Training Loss: 1.458.. Test Loss: 1.358.. Test Accuracy: 0.530\n",
      "Epoch: 10/30.. Time: 74.337.. Training Loss: 1.465.. Test Loss: 1.411.. Test Accuracy: 0.496\n",
      "Epoch: 11/30.. Time: 74.533.. Training Loss: 1.467.. Test Loss: 1.355.. Test Accuracy: 0.517\n",
      "Epoch: 12/30.. Time: 75.279.. Training Loss: 1.466.. Test Loss: 1.403.. Test Accuracy: 0.539\n",
      "Epoch: 13/30.. Time: 76.152.. Training Loss: 1.457.. Test Loss: 1.350.. Test Accuracy: 0.521\n",
      "Epoch: 14/30.. Time: 77.660.. Training Loss: 1.454.. Test Loss: 1.329.. Test Accuracy: 0.530\n",
      "Epoch: 15/30.. Time: 76.187.. Training Loss: 1.478.. Test Loss: 1.295.. Test Accuracy: 0.548\n",
      "Epoch: 16/30.. Time: 75.649.. Training Loss: 1.495.. Test Loss: 1.347.. Test Accuracy: 0.513\n",
      "Epoch: 17/30.. Time: 76.013.. Training Loss: 1.448.. Test Loss: 1.378.. Test Accuracy: 0.523\n",
      "Epoch: 18/30.. Time: 75.747.. Training Loss: 1.467.. Test Loss: 1.360.. Test Accuracy: 0.529\n",
      "Epoch: 19/30.. Time: 75.159.. Training Loss: 1.458.. Test Loss: 1.376.. Test Accuracy: 0.516\n",
      "Epoch: 20/30.. Time: 75.120.. Training Loss: 1.452.. Test Loss: 1.463.. Test Accuracy: 0.534\n",
      "Epoch: 21/30.. Time: 91.335.. Training Loss: 1.447.. Test Loss: 1.340.. Test Accuracy: 0.557\n",
      "Epoch: 22/30.. Time: 86.478.. Training Loss: 1.449.. Test Loss: 1.297.. Test Accuracy: 0.563\n",
      "Epoch: 23/30.. Time: 73.219.. Training Loss: 1.447.. Test Loss: 1.338.. Test Accuracy: 0.545\n",
      "Epoch: 24/30.. Time: 72.534.. Training Loss: 1.432.. Test Loss: 1.309.. Test Accuracy: 0.548\n",
      "Epoch: 25/30.. Time: 72.689.. Training Loss: 1.435.. Test Loss: 1.386.. Test Accuracy: 0.532\n",
      "Epoch: 26/30.. Time: 72.999.. Training Loss: 1.433.. Test Loss: 1.311.. Test Accuracy: 0.552\n",
      "Epoch: 27/30.. Time: 72.976.. Training Loss: 1.450.. Test Loss: 1.498.. Test Accuracy: 0.539\n",
      "Epoch: 28/30.. Time: 73.126.. Training Loss: 1.459.. Test Loss: 1.374.. Test Accuracy: 0.557\n",
      "Epoch: 29/30.. Time: 72.478.. Training Loss: 1.458.. Test Loss: 1.311.. Test Accuracy: 0.559\n",
      "Epoch: 30/30.. Time: 71.666.. Training Loss: 1.438.. Test Loss: 1.323.. Test Accuracy: 0.551\n",
      "================================Training Done================================\n"
     ]
    }
   ],
   "source": [
    "## YOUR CODE HERE ##\n",
    "import time\n",
    "device = torch.device(\"cuda:0\" if torch.cuda.is_available() else \"cpu\")\n",
    "print(device)\n",
    "model.to(device)\n",
    "epochs = 30\n",
    "steps = 0\n",
    "print_every = 250\n",
    "\n",
    "train_losses, test_losses = [], []\n",
    "for e in range(epochs):\n",
    "    running_loss= 0\n",
    "    start_time = time.time()\n",
    "    for images, labels in train_loader:\n",
    "        steps += 1\n",
    "        images, labels = images.to(device), labels.to(device)\n",
    "        optimizer.zero_grad()\n",
    "        log_ps = model.forward(images)\n",
    "        loss = criterion(log_ps, labels)\n",
    "        loss.backward()\n",
    "        optimizer.step()\n",
    "        running_loss += loss.item()\n",
    "        \n",
    "    else:\n",
    "        test_loss = 0\n",
    "        accuracy = 0\n",
    "        with torch.no_grad():\n",
    "            model.eval()\n",
    "            for images, labels in test_loader:\n",
    "                images, labels = images.to(device), labels.to(device)\n",
    "                log_ps = model.forward(images)\n",
    "                test_loss += criterion(log_ps, labels)\n",
    "                ps = torch.exp(log_ps)\n",
    "                top_p, top_class = ps.topk(1, dim=1)\n",
    "                equals = labels.view(*top_class.shape) == top_class\n",
    "                accuracy += torch.mean(equals.type(torch.FloatTensor)).item()\n",
    "        model.train()\n",
    "        train_losses.append(running_loss/len(train_loader))\n",
    "        test_losses.append(test_loss/len(test_loader))\n",
    "        end_time = time.time()\n",
    "        print(\"Epoch: {}/{}..\".format(e+1, epochs),\n",
    "              \"Time: {:.3f}..\".format(end_time-start_time),\n",
    "              \"Training Loss: {:.3f}..\".format(running_loss/len(train_loader)),\n",
    "              \"Test Loss: {:.3f}..\".format(test_loss/len(test_loader)),\n",
    "              \"Test Accuracy: {:.3f}\".format(accuracy/len(test_loader)))\n",
    "\n",
    "        \n",
    "print(\"================================Training Done================================\")"
   ]
  },
  {
   "cell_type": "markdown",
   "metadata": {},
   "source": [
    "Plot the training loss (and validation loss/accuracy, if recorded)."
   ]
  },
  {
   "cell_type": "code",
   "execution_count": null,
   "metadata": {},
   "outputs": [],
   "source": [
    "## YOUR CODE HERE ##\n",
    "import matplotlib.pyplot as plt\n",
    "plt.plot(train_losses, label='Training Loss')\n",
    "plt.plot(test_losses, label='Testing Loss')\n",
    "plt.legend()\n",
    "plt.show()"
   ]
  },
  {
   "cell_type": "markdown",
   "metadata": {},
   "source": [
    "## Testing your model\n",
    "Using the previously created `DataLoader` for the test set, compute the percentage of correct predictions using the highest probability prediction. \n",
    "\n",
    "If your accuracy is over 70%, great work! \n",
    "This is a hard task to exceed 70% on.\n",
    "\n",
    "If your accuracy is under 45%, you'll need to make improvements.\n",
    "Go back and check your model architecture, loss function, and optimizer to make sure they're appropriate for an image classification task."
   ]
  },
  {
   "attachments": {},
   "cell_type": "markdown",
   "metadata": {},
   "source": [
    "## Saving and loading your model\n",
    "Using `torch.save`, save your model for future loading."
   ]
  },
  {
   "cell_type": "code",
   "execution_count": null,
   "metadata": {},
   "outputs": [],
   "source": [
    "## YOUR CODE HERE #### YOUR CODE HERE ##\n",
    "print(\"My model: \\n\\n\", model, '\\n')\n",
    "print(\"The state dict keys: \\n\\n\", model.state_dict().keys())\n",
    "torch.save(model.state_dict(), 'checkpoint.pth')"
   ]
  },
  {
   "cell_type": "code",
   "execution_count": null,
   "metadata": {},
   "outputs": [],
   "source": [
    "state_dict = torch.load('checkpoint.pth')\n",
    "print(state_dict.keys())\n",
    "# model = fc_model.Network(784, 10, [400, 200, 100])\n",
    "# def load_checkpoint(filepath):\n",
    "#     checkpoint = torch.load(filepath)\n",
    "#     model = fc_model.Network(checkpoint['input_size'],\n",
    "#                              checkpoint['output_size'],\n",
    "#                              checkpoint['hidden_layers'])\n",
    "#     model.load_state_dict(checkpoint['state_dict'])\n",
    "    \n",
    "#     return model\n",
    "\n",
    "# model = load_checkpoint('checkpoint.pth')\n",
    "# print(model)"
   ]
  },
  {
   "cell_type": "markdown",
   "metadata": {},
   "source": [
    "## Make a Recommendation\n",
    "\n",
    "Based on your evaluation, what is your recommendation on whether to build or buy? Explain your reasoning below."
   ]
  },
  {
   "attachments": {},
   "cell_type": "markdown",
   "metadata": {},
   "source": [
    "\n",
    "\n",
    "**Double click this cell to modify it**\n",
    "#### Answer\n",
    "- My model achieved 55% accuracy and didn't defeat Detectocrop with 70% accuracy.\n",
    "- My Network has a simpler structure than the current advanced solutions and takes less training time than advanced solutions.\n",
    "- I did data augmentation and increased the training dataset to encourage the model to see more different images.\n",
    "- Yes, it is necessary to improve the accuracy, especially for some security applications like face recognition for unlocking a home door.\n",
    "- We can build a more complicated neural network model or get more training data to make the model's knowledge for each image class more comprehensive.\n"
   ]
  }
 ],
 "metadata": {
  "kernelspec": {
   "display_name": "base",
   "language": "python",
   "name": "python3"
  },
  "language_info": {
   "codemirror_mode": {
    "name": "ipython",
    "version": 3
   },
   "file_extension": ".py",
   "mimetype": "text/x-python",
   "name": "python",
   "nbconvert_exporter": "python",
   "pygments_lexer": "ipython3",
   "version": "3.9.13"
  },
  "vscode": {
   "interpreter": {
    "hash": "512bd0c988b6090523a59afbeeaf64fdd78ade63efc58c09bf4cbb2de7f76ec4"
   }
  }
 },
 "nbformat": 4,
 "nbformat_minor": 4
}
